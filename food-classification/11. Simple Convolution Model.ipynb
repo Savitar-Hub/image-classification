{
 "cells": [
  {
   "cell_type": "code",
   "execution_count": 1,
   "id": "de12f27c",
   "metadata": {},
   "outputs": [
    {
     "data": {
      "text/html": [
       "<style>.container { width: 90% !important}; </style>"
      ],
      "text/plain": [
       "<IPython.core.display.HTML object>"
      ]
     },
     "metadata": {},
     "output_type": "display_data"
    }
   ],
   "source": [
    "import torch\n",
    "import pandas as pd\n",
    "import seaborn as sns\n",
    "import matplotlib.pyplot as plt\n",
    "\n",
    "from PIL import Image\n",
    "\n",
    "%matplotlib inline\n",
    "\n",
    "from IPython.display import display, HTML\n",
    "display(HTML(\"<style>.container { width: 90% !important}; </style>\"))"
   ]
  },
  {
   "cell_type": "code",
   "execution_count": 2,
   "id": "fd074323",
   "metadata": {},
   "outputs": [],
   "source": [
    "## TODO: Better use tf, as allows easier training and testing (also develop implementation with pytorch and pytorch lightning)"
   ]
  },
  {
   "cell_type": "code",
   "execution_count": 3,
   "id": "29695d39",
   "metadata": {},
   "outputs": [],
   "source": []
  },
  {
   "cell_type": "code",
   "execution_count": 4,
   "id": "3c6e6747",
   "metadata": {},
   "outputs": [],
   "source": [
    "import torchvision.transforms as transforms\n",
    "from torchvision import datasets\n",
    "from torch.utils.data import DataLoader\n",
    "from torch.utils.data.sampler import SubsetRandomSampler\n",
    "import numpy as np\n",
    "\n",
    "\n",
    "# Some parameters:\n",
    "# Can check for the mean and deviation: https://github.com/pytorch/examples/blob/97304e232807082c2e7b54c597615dc0ad8f6173/imagenet/main.py#L197-L198\n",
    "mean = [0.485, 0.456, 0.406]\n",
    "std=[0.229, 0.224, 0.225]\n",
    "valid_size = 0.2\n",
    "batch_size = 32\n",
    "\n",
    "# TODO: Have to define image loader\n",
    "transform_training = transforms.Compose([transforms.RandomRotation(15),   \n",
    "                                         transforms.RandomResizedCrop(224),\n",
    "                                         transforms.RandomHorizontalFlip(),\n",
    "                                         transforms.ColorJitter(saturation=0.2, contrast=0.2, hue=0.2, brightness=0.2),\n",
    "                                         transforms.ToTensor(),\n",
    "                                         transforms.Normalize(mean, std)])\n",
    "transform_testing = transforms.Compose([transforms.Resize((224,224)),\n",
    "    transforms.ToTensor(), \n",
    "    transforms.Normalize(mean, std)])\n",
    "\n",
    "train_df = pd.read_csv('./data/train_processed.csv')\n",
    "test_df = pd.read_csv('./data/test_processed.csv')"
   ]
  },
  {
   "cell_type": "code",
   "execution_count": 11,
   "id": "b873b259",
   "metadata": {},
   "outputs": [
    {
     "data": {
      "text/plain": [
       "'./data/all_imgs/4a1215d3-12d1-4dae-8eb9-f9e8d8398cb6.jpeg'"
      ]
     },
     "execution_count": 11,
     "metadata": {},
     "output_type": "execute_result"
    }
   ],
   "source": [
    "train_df.iloc[1, 0]"
   ]
  },
  {
   "cell_type": "code",
   "execution_count": 15,
   "id": "5a598081",
   "metadata": {},
   "outputs": [],
   "source": [
    "label = train_df.iloc[1, 1]\n",
    "label = np.array([label])\n",
    "label = label.astype('int8')"
   ]
  },
  {
   "cell_type": "code",
   "execution_count": 16,
   "id": "9981fb49",
   "metadata": {},
   "outputs": [
    {
     "data": {
      "text/plain": [
       "array([0], dtype=int8)"
      ]
     },
     "execution_count": 16,
     "metadata": {},
     "output_type": "execute_result"
    }
   ],
   "source": [
    "label"
   ]
  },
  {
   "cell_type": "code",
   "execution_count": 17,
   "id": "f33a0b01",
   "metadata": {},
   "outputs": [],
   "source": [
    "from torch.utils.data import Dataset, DataLoader\n",
    "\n",
    "class CustomDataset(Dataset):\n",
    "\n",
    "    def __init__(self, csv_file, transform=None):\n",
    "        self.df = pd.read_csv(csv_file)\n",
    "        self.transform = transform\n",
    "\n",
    "    def __len__(self):\n",
    "        return len(self.df)\n",
    "\n",
    "    def __getitem__(self, idx):\n",
    "        if torch.is_tensor(idx):\n",
    "            idx = idx.tolist()\n",
    "\n",
    "        img_name = os.path.join(\n",
    "            self.df.iloc[idx, 0]\n",
    "        )\n",
    "        \n",
    "        image = io.imread(img_name)\n",
    "        \n",
    "        label = self.df.iloc[idx, 1]\n",
    "        label = np.array([label])\n",
    "        label = label.astype('float')\n",
    "        sample = {'image': image, 'label': label}\n",
    "\n",
    "        if self.transform:\n",
    "            sample = self.transform(sample)\n",
    "\n",
    "        return sample"
   ]
  },
  {
   "cell_type": "code",
   "execution_count": 5,
   "id": "7056b90e",
   "metadata": {},
   "outputs": [
    {
     "name": "stdout",
     "output_type": "stream",
     "text": [
      "280 70 150\n"
     ]
    }
   ],
   "source": [
    "# Now we are going to create the validation data\n",
    "\n",
    "## TODO: Train test split indices stratified\n",
    "num_train = len(train_df)\n",
    "indices = list(range(num_train))\n",
    "np.random.shuffle(indices)\n",
    "split = int(np.floor(valid_size * num_train)) # We obtain a list of values that we will make as an split\n",
    "train_idx = indices[split:]\n",
    "valid_idx = indices[:split]\n",
    "\n",
    "train_sampler = SubsetRandomSampler(train_idx)\n",
    "valid_sampler = SubsetRandomSampler(valid_idx)\n",
    "\n",
    "# And now we create the loders\n",
    "train_loader = DataLoader(train_df, batch_size=batch_size, sampler=train_sampler)\n",
    "valid_loader = DataLoader(train_df, batch_size=batch_size, sampler=valid_sampler)\n",
    "test_loader = DataLoader(test_df, batch_size=batch_size)\n",
    "\n",
    "loaders_scratch = {'train': train_loader, 'valid': valid_loader, 'test': test_loader}\n",
    "\n",
    "print(len(train_loader), len(valid_loader), len(test_loader))\n"
   ]
  },
  {
   "cell_type": "code",
   "execution_count": null,
   "id": "103a1aee",
   "metadata": {},
   "outputs": [],
   "source": [
    "import torch.nn as nn\n",
    "from torch import optim\n",
    "\n",
    "use_cuda = torch.cuda.is_available()\n",
    "\n",
    "criterion_scratch = nn.CrossEntropyLoss()\n",
    "\n",
    "def get_optimizer_scratch(model):\n",
    "    # The modoel has proved to learn better with Adam\n",
    "    return optim.Adam(model.parameters(), lr=0.0003)"
   ]
  },
  {
   "cell_type": "code",
   "execution_count": null,
   "id": "11e57314",
   "metadata": {},
   "outputs": [],
   "source": [
    "import torch.nn as nn\n",
    "import torch.nn.functional as F\n",
    "\n",
    "number_classes = len(train_df.label.unique())\n",
    "\n",
    "# define the CNN architecture\n",
    "class Net(nn.Module):\n",
    "    def __init__(self):\n",
    "        super(Net, self).__init__()\n",
    "        ## Define layers of a CNN\n",
    "        self.conv_1 = nn.Conv2d(3, 16, 3, stride=1, padding=1) \n",
    "        self.conv_2 = nn.Conv2d(16, 32, 3, stride=1, padding=1) \n",
    "        self.conv_3 = nn.Conv2d(32, 64, 3, stride=1, padding=1) \n",
    "        self.conv_4 = nn.Conv2d(64, 128, 3, stride=1, padding=1) \n",
    "        self.conv_5 = nn.Conv2d(128, 256, 3, stride=1, padding=1) \n",
    "\n",
    "        \n",
    "        # And also define a max pooling layer\n",
    "        self.pool = nn.MaxPool2d(2,2)        \n",
    "        \n",
    "        # And linear models\n",
    "        self.fc1 = nn.Linear(7*7*256, 1024) # 7 as (224/(2*2*2*2*2) and 128 as it is the depth\n",
    "        # self.fc2 = nn.Linear(512, number_classes)\n",
    "\n",
    "        # Other model that i tested\n",
    "        self.fc2 = nn.Linear(1024, 512)\n",
    "        self.fc3 = nn.Linear(512, 256)\n",
    "        self.fc4 = nn.Linear(256, number_classes)\n",
    "\n",
    "        \n",
    "        # Will define a dropout of 0.3\n",
    "        self.dropout = nn.Dropout(0.2)\n",
    "        \n",
    "    \n",
    "    def forward(self, x):\n",
    "        ## Define forward behavior\n",
    "        x = self.pool(F.relu(self.conv_1(x)))\n",
    "        x = self.pool(F.relu(self.conv_2(x)))\n",
    "        x = self.pool(F.relu(self.conv_3(x)))\n",
    "        x = self.pool(F.relu(self.conv_4(x)))\n",
    "        x = self.pool(F.relu(self.conv_5(x)))\n",
    "\n",
    "        \n",
    "        # Flatten the input\n",
    "        x = x.view(-1, 7*7*256)\n",
    "        \n",
    "        # Add the dropout\n",
    "        x = self.dropout(x)\n",
    "        \n",
    "        # Add the linear layers\n",
    "        x = F.relu(self.fc1(x))\n",
    "        x = self.dropout(x)\n",
    "        x = self.fc2(x)\n",
    "        x = self.dropout(x)\n",
    "        x = self.fc3(x)\n",
    "        x = self.dropout(x)\n",
    "        x = self.fc4(x)\n",
    "        \n",
    "        return x\n",
    "\n",
    "#-#-# Do NOT modify the code below this line. #-#-#\n",
    "\n",
    "# instantiate the CNN\n",
    "model_scratch = Net()\n",
    "\n",
    "# move tensors to GPU if CUDA is available\n",
    "if use_cuda:\n",
    "    model_scratch.cuda()\n",
    "\n",
    "model_scratch"
   ]
  },
  {
   "cell_type": "code",
   "execution_count": null,
   "id": "e039b7de",
   "metadata": {},
   "outputs": [],
   "source": [
    "def train(n_epochs, loaders, model, optimizer, criterion, use_cuda, save_path):\n",
    "    \"\"\"returns trained model\"\"\"\n",
    "    # initialize tracker for minimum validation loss\n",
    "    valid_loss_min = np.Inf \n",
    "    \n",
    "    for epoch in range(1, n_epochs+1):\n",
    "        # initialize variables to monitor training and validation loss\n",
    "        train_loss = 0.0\n",
    "        valid_loss = 0.0\n",
    "        \n",
    "        ###################\n",
    "        # train the model #\n",
    "        ###################\n",
    "        # set the module to training mode\n",
    "        model.train()\n",
    "        for batch_idx, (data, target) in enumerate(loaders['train']):\n",
    "            print(data)\n",
    "            # move to GPU\n",
    "            if use_cuda:\n",
    "                data, target = data.cuda(), target.cuda()\n",
    "\n",
    "            ## record the average training loss, using something like\n",
    "            ## train_loss = train_loss + ((1 / (batch_idx + 1)) * (loss.data.item() - train_loss))\n",
    "            optimizer.zero_grad()\n",
    "            # Obtain the output from the model\n",
    "            output = model(data)\n",
    "            # Obtain loss\n",
    "            loss = criterion(output, target)\n",
    "            # Backward induction\n",
    "            loss.backward()\n",
    "            # Perform optimization step\n",
    "            optimizer.step()            \n",
    "            train_loss = train_loss + ((1 / (batch_idx + 1)) * (loss.data.item() - train_loss))\n",
    "\n",
    "        ######################    \n",
    "        # validate the model #\n",
    "        ######################\n",
    "        # set the model to evaluation mode\n",
    "        model.eval()\n",
    "        for batch_idx, (data, target) in enumerate(loaders['valid']):\n",
    "            # move to GPU\n",
    "            if use_cuda:\n",
    "                data, target = data.cuda(), target.cuda()\n",
    "\n",
    "            output = model(data)\n",
    "            # Obtain the loss\n",
    "            loss = criterion(output, target)\n",
    "            # Add this loss to the list (same as before but instead of train we use valid)\n",
    "            valid_loss = valid_loss + ((1 / (batch_idx + 1)) * (loss.data.item() - valid_loss))\n",
    "            \n",
    "\n",
    "        # print training/validation statistics \n",
    "        print('Epoch: {} \\tTraining Loss: {:.6f} \\tValidation Loss: {:.6f}'.format(\n",
    "            epoch, \n",
    "            train_loss,\n",
    "            valid_loss\n",
    "            ))\n",
    "        \n",
    "        if valid_loss < valid_loss_min:\n",
    "            # Print an alert\n",
    "            print('Validation loss decreased ({:.6f} --> {:.6f}).  Saving model..'.format(\n",
    "                valid_loss_min,\n",
    "                valid_loss))\n",
    "\n",
    "            torch.save(model.state_dict(), save_path)\n",
    "            \n",
    "            # Update the new minimum\n",
    "            valid_loss_min = valid_loss\n",
    "        \n",
    "    return model"
   ]
  },
  {
   "cell_type": "code",
   "execution_count": null,
   "id": "ea1a07e1",
   "metadata": {},
   "outputs": [],
   "source": [
    "model_scratch = train(20, loaders_scratch, model_scratch, get_optimizer_scratch(model_scratch),\n",
    "                      criterion_scratch, use_cuda, 'ignore.pt')"
   ]
  }
 ],
 "metadata": {
  "kernelspec": {
   "display_name": "Python 3 (ipykernel)",
   "language": "python",
   "name": "python3"
  },
  "language_info": {
   "codemirror_mode": {
    "name": "ipython",
    "version": 3
   },
   "file_extension": ".py",
   "mimetype": "text/x-python",
   "name": "python",
   "nbconvert_exporter": "python",
   "pygments_lexer": "ipython3",
   "version": "3.10.6"
  }
 },
 "nbformat": 4,
 "nbformat_minor": 5
}
